{
  "nbformat": 4,
  "nbformat_minor": 0,
  "metadata": {
    "colab": {
      "provenance": []
    },
    "kernelspec": {
      "name": "python3",
      "display_name": "Python 3"
    },
    "language_info": {
      "name": "python"
    }
  },
  "cells": [
    {
      "cell_type": "code",
      "execution_count": 5,
      "metadata": {
        "colab": {
          "base_uri": "https://localhost:8080/"
        },
        "id": "BfU8wM_aJWT_",
        "outputId": "7eeecb1c-332a-40b2-e18b-c46b589f360e"
      },
      "outputs": [
        {
          "output_type": "stream",
          "name": "stdout",
          "text": [
            "[[1, 0, 0, 0], [0, 0, 1, 0], [0, 0, 0, 1], [0, 0, 0, 0]]\n"
          ]
        }
      ],
      "source": [
        "def solve_four_queens():\n",
        "  board = [[0 for _ in range(4)] for _ in range(4)] # initialize board with all squares empty\n",
        "\n",
        "  # place the first queen in the top left square\n",
        "  board[0][0] = 1\n",
        "\n",
        "  # place the second queen in the second row\n",
        "  for col in range(4):\n",
        "    if col != 0: # cannot be in the same column as the first queen\n",
        "      board[1][col] = 1\n",
        "      if not queens_attack(board): # check if second queen attacks first queen\n",
        "        break # if not, we found a valid placement for the second queen\n",
        "      else:\n",
        "        board[1][col] = 0 # if it does attack, try the next column\n",
        "\n",
        "  # place the third queen in the third row\n",
        "  for col in range(4):\n",
        "    if col != 0 and col != 1: # cannot be in the same column as either of the first two queens\n",
        "      board[2][col] = 1\n",
        "      if not queens_attack(board): # check if third queen attacks any of the previous queens\n",
        "        break # if not, we found a valid placement for the third queen\n",
        "      else:\n",
        "        board[2][col] = 0 # if it does attack, try the next column\n",
        "\n",
        "  # place the fourth queen in the fourth row\n",
        "  for col in range(4):\n",
        "    if col != 0 and col != 1 and col != 2: # cannot be in the same column as any of the previous queens\n",
        "      board[3][col] = 1\n",
        "      if not queens_attack(board): # check if fourth queen attacks any of the previous queens\n",
        "        break # if not, we found a valid placement for the fourth queen\n",
        "      else:\n",
        "        board[3][col] = 0 # if it does attack, try the next column\n",
        "\n",
        "  return board\n",
        "\n",
        "def queens_attack(board):\n",
        "  # check rows\n",
        "  for row in range(4):\n",
        "    if sum(board[row]) > 1:\n",
        "      return True\n",
        "\n",
        "  # check columns\n",
        "  for col in range(4):\n",
        "    if board[0][col] + board[1][col] + board[2][col] + board[3][col] > 1:\n",
        "      return True\n",
        "\n",
        "  # check diagonals\n",
        "  if board[0][0] + board[1][1] + board[2][2] + board[3][3] > 1:\n",
        "    return True\n",
        "  if board[0][3] + board[1][2] + board[2][1] + board[3][0] > 1:\n",
        "    return True\n",
        "\n",
        "  return False\n",
        "\n",
        "board = solve_four_queens()\n",
        "print(board)\n"
      ]
    }
  ]
}