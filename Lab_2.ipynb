{
  "nbformat": 4,
  "nbformat_minor": 0,
  "metadata": {
    "colab": {
      "provenance": []
    },
    "kernelspec": {
      "name": "python3",
      "display_name": "Python 3"
    },
    "language_info": {
      "name": "python"
    }
  },
  "cells": [
    {
      "cell_type": "code",
      "execution_count": 1,
      "metadata": {
        "colab": {
          "base_uri": "https://localhost:8080/"
        },
        "id": "FSaqrg3svA6j",
        "outputId": "31d8ee6e-d692-4233-d724-165456b6a059"
      },
      "outputs": [
        {
          "output_type": "stream",
          "name": "stdout",
          "text": [
            "Enter total numbers of the first list : 2\n",
            "Enter : 1\n",
            "Enter : 2\n",
            "Enter total numbers of the second list : 3\n",
            "Enter : 2\n",
            "Enter : 3\n",
            "Enter : 4\n",
            "First list :  [1, 2]\n",
            "Second list :  [2, 3, 4]\n",
            "Final list :  [1, 2, 2, 3, 4]\n"
          ]
        }
      ],
      "source": [
        "first_list = []\n",
        "second_list = []\n",
        "count_first_list = int(input(\"Enter total numbers of the first list : \"))\n",
        "for i in range(1,count_first_list+1):\n",
        "  no = int(input(\"Enter : \"))\n",
        "  first_list.append(no)\n",
        "count_second_list = int(input(\"Enter total numbers of the second list : \"))\n",
        "for i in range(1,count_second_list+1):\n",
        "  no = int(input(\"Enter : \"))\n",
        "  second_list.append(no)\n",
        "print(\"First list : \",first_list)\n",
        "print(\"Second list : \",second_list)\n",
        "final_list = first_list + second_list\n",
        "final_list.sort()\n",
        "print(\"Final list : \",final_list)"
      ]
    },
    {
      "cell_type": "code",
      "source": [
        "def find_len(list1):\n",
        "    length = len(list1)\n",
        "    list1.sort()\n",
        "    print(\"Largest element is:\", list1[length-1])\n",
        "    print(\"Smallest element is:\", list1[0])\n",
        "    print(\"Second Largest element is:\", list1[length-2])\n",
        "    print(\"Second Smallest element is:\", list1[1])\n",
        "\n",
        "list1=[12, 45, 2, 41, 31, 10, 8, 6, 4]\n",
        "Largest = find_len(list1)"
      ],
      "metadata": {
        "colab": {
          "base_uri": "https://localhost:8080/"
        },
        "id": "_cCVd2mFxd-K",
        "outputId": "d20841bc-d168-452f-b587-845da1130095"
      },
      "execution_count": 2,
      "outputs": [
        {
          "output_type": "stream",
          "name": "stdout",
          "text": [
            "Largest element is: 45\n",
            "Smallest element is: 2\n",
            "Second Largest element is: 41\n",
            "Second Smallest element is: 4\n"
          ]
        }
      ]
    },
    {
      "cell_type": "code",
      "source": [],
      "metadata": {
        "id": "X35m__S_x15F"
      },
      "execution_count": null,
      "outputs": []
    }
  ]
}