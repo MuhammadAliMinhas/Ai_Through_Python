{
  "cells": [
    {
      "cell_type": "code",
      "execution_count": null,
      "metadata": {
        "colab": {
          "base_uri": "https://localhost:8080/"
        },
        "id": "UObJ-Bz_NMvH",
        "outputId": "6e223a8d-547c-45d2-ef72-822a4b8e221b"
      },
      "outputs": [
        {
          "name": "stdout",
          "output_type": "stream",
          "text": [
            "['F', 'C', 'A']\n"
          ]
        }
      ],
      "source": [
        "class Node:\n",
        "    def __init__(self, state, parent, actions, totalCost):\n",
        "        self.state = state  \n",
        "        self.parent = parent  \n",
        "        self.actions = actions \n",
        "        self.totalCost = totalCost \n",
        "    \n",
        "\n",
        "def bfs():\n",
        "    initialState = 'F'\n",
        "    goalState = 'A'\n",
        "    \n",
        "    graph = {'A' : Node('A', None , ['B', 'C', 'E'], None),\n",
        "         'B' : Node('B', None , ['A', 'D', 'E'], None),\n",
        "         'C' : Node('C', None , ['A', 'F', 'G'], None),\n",
        "         'D' : Node('D', None , ['B', 'E'], None),\n",
        "         'E' : Node('E', None , ['A', 'B', 'D'], None),\n",
        "         'F' : Node('F', None , ['C'], None),\n",
        "         'G' : Node('G', None , ['C'], None)}\n",
        "    \n",
        "    queue = [initialState]\n",
        "    visited = []\n",
        "    while len(queue) != 0:\n",
        "        currentNode = queue.pop(0)\n",
        "        visited.append(currentNode)\n",
        "        for child in graph[currentNode].actions:\n",
        "            if child not in queue and child not in visited:\n",
        "                graph[child].parent = currentNode\n",
        "                if graph[child].state == goalState:\n",
        "                    return actionSequence(graph , initialState, goalState)\n",
        "                queue.append(child)\n",
        "                \n",
        "def actionSequence(graph , initialState, goalState):\n",
        "    solution = [goalState]\n",
        "    currentParent = graph[goalState].parent\n",
        "    while currentParent != None:\n",
        "        solution.append(currentParent)\n",
        "        currentParent = graph[currentParent].parent\n",
        "    solution.reverse()\n",
        "    return solution\n",
        "    \n",
        "    \n",
        "sol = bfs()\n",
        "print(sol)"
      ]
    },
    {
      "cell_type": "code",
      "source": [
        "# Lab Task 1\n",
        "class Node:\n",
        "    def __init__(self, state, parent, actions):\n",
        "        self.state = state\n",
        "        self.parent = parent\n",
        "        self.actions = actions\n",
        "\n",
        "def BFS():\n",
        "    startingNode = input(\"Enter the initial Node: \")\n",
        "    destinationNode = input(\"Enter the Destination Node: \")\n",
        "    nodeGraphs = {'Oradea': Node('Oradea', None, ['Zerind' , 'Sibui']),\n",
        "                  'Zerind': Node('Zerind', None, ['Oradea' , 'Arad']),\n",
        "                  'Neamt': Node('Neamt', None, ['Iasi']),\n",
        "                  'Arad': Node('Arad', None, ['Zerind', 'Sibui' , 'Timisoara']),\n",
        "                  'Isai': Node('Isai', None, ['Neamt','Vaslui']),\n",
        "                  'Sibui': Node('Sibui', None, ['Oradea', 'Arad' , 'Fagaras']),\n",
        "                  'Fagaras': Node('Fagaras', None, ['Sibui', 'Bucharest']),\n",
        "                  'Vaslui': Node('Vaslui', None, ['Isai','Urziceni']),\n",
        "                  'Timisoara': Node('Timisoara', None, ['Arad','Lugoj']),\n",
        "                  'Riminica': Node('Riminica', None, ['Sibui','Pitesti','Craiova']),\n",
        "                  'Lugoj': Node('Lugoj', None, ['Timisoara','Mehadia']),\n",
        "                  'Pitesti': Node('Pitesti', None, ['Riminica','Craiova','Bucharest']),\n",
        "                  'Mehadia': Node('Mehadia', None, ['Lugoj','Drobeta']),\n",
        "                  'Bucharest': Node('Bucharest', None, ['Fagaras','Pitesti','Urziceni']),\n",
        "                  'Urziceni': Node('Urziceni', None, ['Bucharest','Hirsova','Vaslui']),\n",
        "                  'Hirsova': Node('Hirsova', None, ['Urziceni','Eforie']),\n",
        "                  'Drobeta': Node('Drobeta', None, ['Mehndia','Craiova']),\n",
        "                  'Craiova': Node('Craiova', None, ['Drobeta','Riminica','Pitesti']),\n",
        "                  'Giurgui': Node('Giurgui', None, ['Bucharest']),\n",
        "                  'Eforie': Node('Eforie', None, ['Hirsova'])}\n",
        "    queue = [startingNode]\n",
        "    visitedNode = []\n",
        "    \n",
        "    while len(queue) != 0:\n",
        "       temp = queue.pop(0)\n",
        "       visitedNode.append(temp)\n",
        "       for child in nodeGraphs[temp].actions:\n",
        "         if child not in queue and child not in visitedNode:\n",
        "                nodeGraphs[child].parent = temp\n",
        "                if nodeGraphs[child].state == destinationNode:\n",
        "                  return roadMap(nodeGraphs, startingNode ,destinationNode)\n",
        "                queue.append(child) \n",
        "def roadMap(nodeGraphs, startingNode, destinationNode):\n",
        "      temporary = [destinationNode]\n",
        "      parentCurrent = nodeGraphs[destinationNode].parent\n",
        "      while parentCurrent != None:\n",
        "        temporary.append(parentCurrent)\n",
        "        parentCurrent = nodeGraphs[parentCurrent].parent\n",
        "      temporary.reverse()\n",
        "      return temporary\n",
        "Ans = BFS()\n",
        "print()\n",
        "print(\"Shotest Path Is: \" , Ans)\n"
      ],
      "metadata": {
        "colab": {
          "base_uri": "https://localhost:8080/"
        },
        "id": "ppPPG6m7OduJ",
        "outputId": "338140dc-99b4-4eee-bed4-e0feed772bd5"
      },
      "execution_count": 15,
      "outputs": [
        {
          "output_type": "stream",
          "name": "stdout",
          "text": [
            "Enter the initial Node: Arad\n",
            "Enter the Destination Node: Bucharest\n",
            "\n",
            "Shotest Path Is:  ['Arad', 'Sibui', 'Fagaras', 'Bucharest']\n"
          ]
        }
      ]
    }
  ],
  "metadata": {
    "colab": {
      "collapsed_sections": [],
      "provenance": []
    },
    "kernelspec": {
      "display_name": "Python 3",
      "name": "python3"
    },
    "language_info": {
      "name": "python"
    }
  },
  "nbformat": 4,
  "nbformat_minor": 0
}