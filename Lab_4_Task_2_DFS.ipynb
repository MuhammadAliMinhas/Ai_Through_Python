{
  "nbformat": 4,
  "nbformat_minor": 0,
  "metadata": {
    "colab": {
      "provenance": [],
      "collapsed_sections": []
    },
    "kernelspec": {
      "name": "python3",
      "display_name": "Python 3"
    },
    "language_info": {
      "name": "python"
    }
  },
  "cells": [
    {
      "cell_type": "code",
      "source": [
        "# Going from arad to bucharest \n",
        "# DFS\n",
        "class Node:\n",
        "  def __init__(self, state, parent, actions, totalCost):\n",
        "    self.state = state\n",
        "    self.parent = parent\n",
        "    self.actions = actions\n",
        "    self.totalCost = totalCost\n",
        "  \n",
        "def DFS():\n",
        "  initialState = input(\"Enter initial Node: \")\n",
        "  destinationState = input(\"Enter destination Node: \")\n",
        "\n",
        "  graph = {'Oradea': Node('Oradea', None, ['Zerind' , 'Sibui'], None),\n",
        "                  'Zerind': Node('Zerind', None, ['Oradea' , 'Arad'], None),\n",
        "                  'Neamt': Node('Neamt', None, ['Iasi'], None),\n",
        "                  'Arad': Node('Arad', None, ['Zerind', 'Sibui' , 'Timisoara'], None),\n",
        "                  'Isai': Node('Isai', None, ['Neamt','Vaslui'], None),\n",
        "                  'Sibui': Node('Sibui', None, ['Oradea', 'Arad' , 'Fagaras'], None),\n",
        "                  'Fagaras': Node('Fagaras', None, ['Sibui', 'Bucharest'], None),\n",
        "                  'Vaslui': Node('Vaslui', None, ['Isai','Urziceni'], None),\n",
        "                  'Timisoara': Node('Timisoara', None, ['Arad','Lugoj'], None),\n",
        "                  'Riminica': Node('Riminica', None, ['Sibui','Pitesti','Craiova'], None),\n",
        "                  'Lugoj': Node('Lugoj', None, ['Timisoara','Mehadia'], None),\n",
        "                  'Pitesti': Node('Pitesti', None, ['Riminica','Craiova','Bucharest'], None),\n",
        "                  'Mehadia': Node('Mehadia', None, ['Lugoj','Drobeta'], None),\n",
        "                  'Bucharest': Node('Bucharest', None, ['Fagaras','Pitesti','Urziceni'], None),\n",
        "                  'Urziceni': Node('Urziceni', None, ['Bucharest','Hirsova','Vaslui'], None),\n",
        "                  'Hirsova': Node('Hirsova', None, ['Urziceni','Eforie'], None),\n",
        "                  'Drobeta': Node('Drobeta', None, ['Mehadia','Craiova'], None),\n",
        "                  'Craiova': Node('Craiova', None, ['Drobeta','Riminica','Pitesti'], None),\n",
        "                  'Giurgui': Node('Giurgui', None, ['Bucharest'], None),\n",
        "                  'Eforie': Node('Eforie', None, ['Hirsova'], None)}\n",
        "  frontierList = [initialState]\n",
        "  visitedList = []\n",
        "\n",
        "  while len(frontierList) != 0:\n",
        "    currentNode = frontierList.pop(len(frontierList)-1)\n",
        "    visitedList.append(currentNode)\n",
        "    currentChildren = 0\n",
        "    for child in graph[currentNode].actions:\n",
        "      if child not in frontierList and child not in visitedList:\n",
        "        graph[child].parent = currentNode\n",
        "        if graph[child].state == destinationState:\n",
        "          print(\"Explored Nodes are: \", visitedList)\n",
        "          return roadMap(graph, initialState, destinationState)\n",
        "        currentChildren = currentChildren + 1\n",
        "        frontierList.append(child)\n",
        "    if currentChildren == 0:\n",
        "      del visitedList[len(visitedList)-1]\n",
        "\n",
        "def roadMap(graph, initialState, destinationState):\n",
        "  solution = [destinationState]\n",
        "  currentParent = graph[destinationState].parent\n",
        "\n",
        "  while currentParent != None:\n",
        "    solution.append(currentParent)\n",
        "    currentParent = graph[currentParent].parent\n",
        "  solution.reverse()\n",
        "  return solution\n",
        "\n",
        "sol = DFS()\n",
        "print(sol)"
      ],
      "metadata": {
        "colab": {
          "base_uri": "https://localhost:8080/"
        },
        "id": "s6Of5LfCKfin",
        "outputId": "be2a8edb-e8eb-4ef7-c79a-5253ec2a37f2"
      },
      "execution_count": 3,
      "outputs": [
        {
          "output_type": "stream",
          "name": "stdout",
          "text": [
            "Enter initial Node: Arad\n",
            "Enter destination Node: Bucharest\n",
            "Explored Nodes are:  ['Arad', 'Timisoara', 'Lugoj', 'Mehadia', 'Drobeta', 'Craiova', 'Pitesti']\n",
            "['Arad', 'Timisoara', 'Lugoj', 'Mehadia', 'Drobeta', 'Craiova', 'Pitesti', 'Bucharest']\n"
          ]
        }
      ]
    }
  ]
}