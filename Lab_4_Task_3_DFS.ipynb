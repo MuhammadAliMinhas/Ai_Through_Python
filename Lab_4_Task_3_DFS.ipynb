{
  "nbformat": 4,
  "nbformat_minor": 0,
  "metadata": {
    "colab": {
      "provenance": [],
      "collapsed_sections": []
    },
    "kernelspec": {
      "name": "python3",
      "display_name": "Python 3"
    },
    "language_info": {
      "name": "python"
    }
  },
  "cells": [
    {
      "cell_type": "code",
      "source": [
        "# A class to store a Trie node\n",
        "class Trie:\n",
        "    # Constructor\n",
        "    def __init__(self):\n",
        "        self.character = {}\n",
        "        self.isLeaf = False  # true when the node is a leaf node\n",
        " \n",
        " \n",
        "# Iterative function to insert a string into a Trie\n",
        "def insert(root, s):\n",
        "    # start from the root node\n",
        "    curr = root\n",
        " \n",
        "    for ch in s:\n",
        "        # go to the next node (create if the path doesn't exist)\n",
        "        curr = curr.character.setdefault(ch, Trie())\n",
        " \n",
        "    curr.isLeaf = True\n",
        " \n",
        " \n",
        "# Below lists detail all eight possible movements from a cell\n",
        "# (top, right, bottom, left, and four diagonal moves)\n",
        "row = [-1, -1, -1, 0, 1, 0, 1, 1]\n",
        "col = [-1, 1, 0, -1, -1, 1, 0, 1]\n",
        "def isSafe(x, y, processed, board, ch):\n",
        "    return (0 <= x < len(processed)) and (0 <= y < len(processed[0])) and \\\n",
        "           not processed[x][y] and (board[x][y] == ch)\n",
        " \n",
        " \n",
        "# A recursive function to search valid words present in a boggle using trie\n",
        "def searchBoggle(root, board, i, j, processed, path, result):\n",
        "    # if a leaf node is encountered\n",
        "    if root.isLeaf:\n",
        "        # update result with the current word\n",
        "        result.add(path)\n",
        " \n",
        "    # mark the current cell as processed\n",
        "    processed[i][j] = True\n",
        " \n",
        "    # traverse all children of the current Trie node\n",
        "    for key, value in root.character.items():\n",
        " \n",
        "        # check for all eight possible movements from the current cell\n",
        "        for k in range(len(row)):\n",
        " \n",
        "            # skip if a cell is invalid, or it is already processed\n",
        "            # or doesn't lead to any path in the Trie\n",
        "            if isSafe(i + row[k], j + col[k], processed, board, key):\n",
        "                searchBoggle(value, board, i + row[k], j + col[k],\n",
        "                             processed, path + key, result)\n",
        " \n",
        "    # backtrack: mark the current cell as unprocessed\n",
        "    processed[i][j] = False\n",
        "    # Function to search for a given set of words in a boggle\n",
        "def searchInBoggle(board, words):\n",
        "    # construct a set for storing the result\n",
        "    result = set()\n",
        " \n",
        "    # base case\n",
        "    if not board or not len(board):\n",
        "        return\n",
        " \n",
        "    # insert all words into a trie\n",
        "    root = Trie()\n",
        "    for word in words:\n",
        "        insert(root, word)\n",
        " \n",
        "    # `M × N` board\n",
        "    (M, N) = (len(board), len(board[0]))\n",
        " \n",
        "    # construct a matrix to store whether a cell is processed or not\n",
        "    processed = [[False for x in range(N)] for y in range(M)]\n",
        " \n",
        "    # consider each character in the matrix\n",
        "    for i in range(M):\n",
        "        for j in range(N):\n",
        "            ch = board[i][j]  # current character\n",
        " \n",
        "            # proceed only if the current character is a child of the Trie root node\n",
        "            if ch in root.character:\n",
        "                searchBoggle(root.character[ch], board, i, j, processed, ch, result)\n",
        " \n",
        "    # return the result set\n",
        "    return result\n",
        "board = [\n",
        "    ['M', 'S', 'E', 'F'],\n",
        "    ['R', 'A', 'T', 'D'],\n",
        "    ['L', 'O', 'N', 'E'],\n",
        "    ['K', 'A', 'F', 'B']\n",
        "  ]\n",
        "\n",
        "# Words\n",
        "words = ['START', 'NOTE', 'SAND', 'STONED']\n",
        "searchInBoggle(board, words)\n",
        "\n",
        "validWords = searchInBoggle(board, words)\n",
        "print(validWords)"
      ],
      "metadata": {
        "colab": {
          "base_uri": "https://localhost:8080/"
        },
        "id": "GA0H2eZoMKkx",
        "outputId": "44ed8180-7c47-45b7-c0d4-0ab27556ef13"
      },
      "execution_count": 5,
      "outputs": [
        {
          "output_type": "stream",
          "name": "stdout",
          "text": [
            "{'NOTE', 'SAND', 'STONED'}\n"
          ]
        }
      ]
    }
  ]
}