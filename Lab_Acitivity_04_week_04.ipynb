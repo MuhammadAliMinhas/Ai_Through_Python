{
  "nbformat": 4,
  "nbformat_minor": 0,
  "metadata": {
    "colab": {
      "provenance": []
    },
    "kernelspec": {
      "name": "python3",
      "display_name": "Python 3"
    },
    "language_info": {
      "name": "python"
    }
  },
  "cells": [
    {
      "cell_type": "code",
      "execution_count": 1,
      "metadata": {
        "colab": {
          "base_uri": "https://localhost:8080/"
        },
        "id": "2WGfXKzeUwWr",
        "outputId": "b50370b7-b95e-40ec-cc8e-670463e31279"
      },
      "outputs": [
        {
          "output_type": "stream",
          "name": "stdout",
          "text": [
            "The explored Nodes Are Listed :  ['A', 'C', 'G', 'F', 'E']\n",
            "The paths are listed : ['A', 'E', 'D']\n"
          ]
        }
      ],
      "source": [
        "class Node:\n",
        "    def __init__(self,state,parent,actions,totalCost):\n",
        "        self.state=state\n",
        "        self.parent=parent\n",
        "        self.actions=actions\n",
        "        self.totalCost=totalCost\n",
        "\n",
        "def DFS():\n",
        "    initialState=\"A\"\n",
        "    goalState=\"D\"\n",
        "    graph={'A': Node('A',None,['B','E','C'],None),\n",
        "           'B': Node('B',None,['D','E','A'],None),\n",
        "           'C': Node('C',None,['A','F','G'],None),\n",
        "           'D': Node('D',None,['B','E'],None),\n",
        "           'E': Node('E',None,['A','B','D'],None),\n",
        "           'F': Node('F',None,['C'],None),\n",
        "           'G': Node('G',None,['C'],None),}\n",
        "    frontier=[initialState]\n",
        "    explored=[]\n",
        "\n",
        "    while len(frontier)!=0:\n",
        "        currentNode=frontier.pop(len(frontier)-1)\n",
        "        explored.append(currentNode)\n",
        "        currentChildren=0\n",
        "        for child in graph[currentNode].actions:\n",
        "            if child not in frontier and child not in explored:\n",
        "                graph[child].parent=currentNode\n",
        "                if graph[child].state==goalState:\n",
        "                    print(\"The explored Nodes Are Listed : \",explored)\n",
        "                    return roadMap(graph , initialState ,goalState)\n",
        "                frontier.append(child)\n",
        "               \n",
        "def roadMap(graph , initialState ,goalState):\n",
        "    solution=[goalState]\n",
        "    currentParent=graph[goalState].parent\n",
        "\n",
        "    while currentParent != None:\n",
        "        solution.append(currentParent)\n",
        "        currentParent = graph[currentParent].parent\n",
        "    solution.reverse()\n",
        "    return solution\n",
        "sol=DFS()\n",
        "print(\"The paths are listed :\",sol)"
      ]
    }
  ]
}