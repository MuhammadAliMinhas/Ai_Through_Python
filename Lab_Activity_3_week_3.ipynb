{
  "nbformat": 4,
  "nbformat_minor": 0,
  "metadata": {
    "colab": {
      "provenance": []
    },
    "kernelspec": {
      "name": "python3",
      "display_name": "Python 3"
    },
    "language_info": {
      "name": "python"
    }
  },
  "cells": [
    {
      "cell_type": "code",
      "execution_count": 1,
      "metadata": {
        "colab": {
          "base_uri": "https://localhost:8080/"
        },
        "id": "5oqnE8EyuLcc",
        "outputId": "0f8f7daa-3170-4a17-9efc-78a5c87cb668"
      },
      "outputs": [
        {
          "output_type": "stream",
          "name": "stdout",
          "text": [
            "A\n",
            "B\n",
            "C\n",
            "D\n",
            "E\n",
            "F\n",
            "G\n",
            "I\n"
          ]
        }
      ],
      "source": [
        "graph = {\n",
        "    'A': ['B', 'C', \"D\"],\n",
        "    'B': ['E', \"F\"],\n",
        "    'C': ['G', \"I\"],\n",
        "    'D': [\"I\"],\n",
        "    'E': [],\n",
        "    \"F\": [],\n",
        "    'G': [],\n",
        "    \"I\": []\n",
        "}\n",
        " \n",
        "def bfs(visit_complete, graph, current_node):\n",
        "    visit_complete.append(current_node)\n",
        "    queue = []\n",
        "    queue.append(current_node)\n",
        " \n",
        "    while queue:\n",
        "        s = queue.pop(0)\n",
        "        print(s)\n",
        " \n",
        "        for neighbour in graph[s]:\n",
        "            if neighbour not in visit_complete:\n",
        "                visit_complete.append(neighbour)\n",
        "                queue.append(neighbour)\n",
        " \n",
        "bfs([], graph, 'A')"
      ]
    }
  ]
}
