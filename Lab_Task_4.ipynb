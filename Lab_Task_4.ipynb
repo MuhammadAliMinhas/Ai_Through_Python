{
  "nbformat": 4,
  "nbformat_minor": 0,
  "metadata": {
    "colab": {
      "provenance": [],
      "collapsed_sections": []
    },
    "kernelspec": {
      "name": "python3",
      "display_name": "Python 3"
    },
    "language_info": {
      "name": "python"
    }
  },
  "cells": [
    {
      "cell_type": "code",
      "execution_count": 2,
      "metadata": {
        "colab": {
          "base_uri": "https://localhost:8080/"
        },
        "id": "LJIniNmnJSpZ",
        "outputId": "8f3ef242-426b-401c-feed-f43035ee1151"
      },
      "outputs": [
        {
          "output_type": "stream",
          "name": "stdout",
          "text": [
            "Nodes That Have Been Visited Are:   ['D', 'E', 'A']\n",
            "['D', 'E', 'A', 'C']\n"
          ]
        }
      ],
      "source": [
        "# Lab Activity 02\n",
        "# Depth First Serch\n",
        "# Initial State is 'D' and Destination State is 'C'\n",
        "\n",
        "class Node:\n",
        "  def __init__(self, state, parent, actions, totalCost):\n",
        "    self.state = state\n",
        "    self.parent = parent\n",
        "    self.actions = actions\n",
        "    self.totalCost = totalCost\n",
        "\n",
        "def DepthFirstSearch():\n",
        "  initialState = 'D'\n",
        "  goalState = 'C'\n",
        "\n",
        "  graph = {'A': Node('A', None, ['B', 'E', 'C'], None),\n",
        "           'B': Node('B', None, ['D', 'E', 'A'], None),\n",
        "           'C': Node('C', None, ['A', 'F', 'G'], None),\n",
        "           'D': Node('D', None, ['B', 'E'], None),\n",
        "           'E': Node('E', None, ['A', 'B', 'D'], None),\n",
        "           'F': Node('F', None, ['C'], None),\n",
        "           'G': Node('G', None, ['C'], None)}\n",
        "  \n",
        "  frontierList = [initialState]\n",
        "  visitedList = []\n",
        "\n",
        "  while len(frontierList) != 0:\n",
        "    currentNode = frontierList.pop(len(frontierList)-1)\n",
        "    visitedList.append(currentNode)\n",
        "    currentChildren = 0\n",
        "    for child in graph[currentNode].actions:\n",
        "      if child not in frontierList and child not in visitedList:\n",
        "        graph[child].parent = currentNode\n",
        "        if graph[child].state == goalState:\n",
        "          print(\"Nodes That Have Been Visited Are:  \", visitedList)\n",
        "          return roadMap(graph, initialState, goalState)\n",
        "        currentChildren = currentChildren + 1\n",
        "        frontierList.append(child)\n",
        "    if currentChildren == 0:\n",
        "      del visitedList[len(visitedList)-1]\n",
        "\n",
        "def roadMap(graph, initialState, goalState):\n",
        "  solutionList = [goalState]\n",
        "  currentParent = graph[goalState].parent\n",
        "\n",
        "  while currentParent != None:\n",
        "    solutionList.append(currentParent)\n",
        "    currentParent = graph[currentParent].parent\n",
        "  solutionList.reverse()\n",
        "  return solutionList\n",
        "\n",
        "sol = DepthFirstSearch()\n",
        "print(sol)"
      ]
    }
  ]
}