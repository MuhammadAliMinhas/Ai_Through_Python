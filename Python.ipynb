# Activity 2
# Write a Python code to keep accepting integer values from user until 0 is entered.
# Display sum of the given values.

number = int(input("Enter a number: "))
sumOfNumbers = 0
while number!=0:
  sumOfNumbers += number
  number = int(input("Enter a number: "))

print(f"Sum of numbers is: {sumOfNumbers}")

# Activity 3
# Check whether the number is prime or not
number = int(input('Enter a number : '))
counter = 0
for i in range (1, number + 1):
    if(number % i == 0):
        counter += 1;
if(counter == 2):
    print(f"{number} is a Prime number")
else:
    print(f"{number} is NOT a Prime number")
    
    # Activity 4
# Accept 5 integer values from user and display their sum.
sumofNumbers = 0
counter = 0
while counter!=5:
  number = int(input("Enter number: "))
  sumofNumbers+=number
  counter+=1
print(f"Sum of Numbers is: {sumofNumbers}")

# Activity 5
# Calculate the sum of all the values between 0-10 using while loop.

sumOfNumbers = 0
counter = 1
while counter <= 10:
  sumOfNumbers += counter
  counter += 1
print(f"Sum of 0-10 is: {sumOfNumbers}")
