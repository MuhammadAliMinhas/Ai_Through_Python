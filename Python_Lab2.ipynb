{
  "nbformat": 4,
  "nbformat_minor": 0,
  "metadata": {
    "colab": {
      "provenance": []
    },
    "kernelspec": {
      "name": "python3",
      "display_name": "Python 3"
    },
    "language_info": {
      "name": "python"
    }
  },
  "cells": [
    {
      "cell_type": "code",
      "execution_count": 1,
      "metadata": {
        "colab": {
          "base_uri": "https://localhost:8080/"
        },
        "id": "AiD5xhg7CRGw",
        "outputId": "39f155f7-e328-4498-84d5-6784e8f083d3"
      },
      "outputs": [
        {
          "output_type": "stream",
          "name": "stdout",
          "text": [
            "Enter the objects for list \n",
            "Enter Any Numbers \n",
            "2\n",
            "Enter Any Numbers \n",
            "4\n",
            "Enter Any Numbers \n",
            "6\n",
            "Enter Any Numbers \n",
            "8\n",
            "Enter Any Numbers \n",
            "9\n",
            "Enter the objects for list 2 \n",
            "Enter The numbers \n",
            "2\n",
            "Enter The numbers \n",
            "1\n",
            "Enter The numbers \n",
            "4\n",
            "Enter The numbers \n",
            "5\n",
            "Enter The numbers \n",
            "6\n",
            "[2, 4, 6, 8, 9, 2, 1, 4, 5, 6]\n"
          ]
        }
      ],
      "source": [
        "# accept two lists from the user and displayy their join\n",
        "First_list =[]\n",
        "print(\"Enter the objects for list \")\n",
        "for i in range(5):\n",
        "    value=int(input(\"Enter Any Numbers \\n\"))\n",
        "    First_list.append(value)\n",
        "Second_list =[]\n",
        "print(\"Enter the objects for list 2 \")\n",
        "for i in range(5):\n",
        "    value2=int(input(\"Enter The numbers \\n\"))\n",
        "    Second_list.append(value2)\n",
        "list = First_list+Second_list\n",
        "print(list)"
      ]
    },
    {
      "cell_type": "code",
      "source": [
        "def isPalindrome(word):\n",
        "    temp=word[::-1]\n",
        "    if(temp.capitalize()==word.capitalize()):\n",
        "        return True\n",
        "    else:\n",
        "        return False\n",
        "print(isPalindrome(\"deed\"))\n"
      ],
      "metadata": {
        "colab": {
          "base_uri": "https://localhost:8080/"
        },
        "id": "htXRZmCuFdNK",
        "outputId": "785e7705-1b74-4b49-e4b6-f62743a9714f"
      },
      "execution_count": 2,
      "outputs": [
        {
          "output_type": "stream",
          "name": "stdout",
          "text": [
            "True\n"
          ]
        }
      ]
    }
  ]
}